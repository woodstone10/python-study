{
  "nbformat": 4,
  "nbformat_minor": 0,
  "metadata": {
    "colab": {
      "name": "send_email.ipynb",
      "provenance": [],
      "collapsed_sections": [],
      "authorship_tag": "ABX9TyNuP9wv/GvnXOuPkyMPaStR",
      "include_colab_link": true
    },
    "kernelspec": {
      "name": "python3",
      "display_name": "Python 3"
    },
    "language_info": {
      "name": "python"
    }
  },
  "cells": [
    {
      "cell_type": "markdown",
      "metadata": {
        "id": "view-in-github",
        "colab_type": "text"
      },
      "source": [
        "<a href=\"https://colab.research.google.com/github/woodstone10/python-study/blob/main/send_email.ipynb\" target=\"_parent\"><img src=\"https://colab.research.google.com/assets/colab-badge.svg\" alt=\"Open In Colab\"/></a>"
      ]
    },
    {
      "cell_type": "markdown",
      "metadata": {
        "id": "HgCRt9BHI2_f"
      },
      "source": [
        "# Send email \n",
        "\n",
        "---\n",
        "\n",
        "not working!!!"
      ]
    },
    {
      "cell_type": "code",
      "metadata": {
        "id": "hX-nXdKrpSik"
      },
      "source": [
        "import smtplib"
      ],
      "execution_count": 1,
      "outputs": []
    },
    {
      "cell_type": "code",
      "metadata": {
        "id": "Q0YWv-WEpVDM"
      },
      "source": [
        "gmail_user = 'woodstone10@gmail.com'\n",
        "gmail_password = ''"
      ],
      "execution_count": 2,
      "outputs": []
    },
    {
      "cell_type": "code",
      "metadata": {
        "colab": {
          "base_uri": "https://localhost:8080/"
        },
        "id": "P6AeG_d_o94G",
        "outputId": "a4b9eea6-c089-4be1-cae4-946cfc1cc137"
      },
      "source": [
        "try:\n",
        "    server = smtplib.SMTP_SSL('smtp.gmail.com', 463)\n",
        "    server.starttls()\n",
        "    server.login(gmail_user, gmail_password)\n",
        "except:\n",
        "    print('Something went wrong...')"
      ],
      "execution_count": 3,
      "outputs": [
        {
          "output_type": "stream",
          "text": [
            "Something went wrong...\n"
          ],
          "name": "stdout"
        }
      ]
    }
  ]
}