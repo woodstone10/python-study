{
  "nbformat": 4,
  "nbformat_minor": 0,
  "metadata": {
    "colab": {
      "name": "python_class.ipynb",
      "provenance": [],
      "collapsed_sections": [],
      "authorship_tag": "ABX9TyNKzYYMK8UVnitWpPSFEvVo",
      "include_colab_link": true
    },
    "kernelspec": {
      "name": "python3",
      "display_name": "Python 3"
    },
    "language_info": {
      "name": "python"
    }
  },
  "cells": [
    {
      "cell_type": "markdown",
      "metadata": {
        "id": "view-in-github",
        "colab_type": "text"
      },
      "source": [
        "<a href=\"https://colab.research.google.com/github/woodstone10/python-study/blob/main/python_class.ipynb\" target=\"_parent\"><img src=\"https://colab.research.google.com/assets/colab-badge.svg\" alt=\"Open In Colab\"/></a>"
      ]
    },
    {
      "cell_type": "markdown",
      "metadata": {
        "id": "GTAd78PaDhOa"
      },
      "source": [
        "# Simple example"
      ]
    },
    {
      "cell_type": "markdown",
      "metadata": {
        "id": "BFncHMJoBlrc"
      },
      "source": [
        "## Class"
      ]
    },
    {
      "cell_type": "code",
      "metadata": {
        "id": "yH_dSS25AUwr"
      },
      "source": [
        "class Car:\n",
        "  #initializer\n",
        "  def __init__(self, name, color): #variable(=member)\n",
        "    self.name = name\n",
        "    self.color = color\n",
        "\n",
        "  #method(=function)\n",
        "  def show_info(self):\n",
        "    print(\"name:\", self.name, \", color:\", self.color)"
      ],
      "execution_count": null,
      "outputs": []
    },
    {
      "cell_type": "markdown",
      "metadata": {
        "id": "Vm_Im4AZBnm_"
      },
      "source": [
        "## Instance"
      ]
    },
    {
      "cell_type": "code",
      "metadata": {
        "colab": {
          "base_uri": "https://localhost:8080/"
        },
        "id": "HGtFgmGwBZC1",
        "outputId": "fa9ea5a1-1832-462d-daa4-0938518f8b51"
      },
      "source": [
        "#instance\n",
        "car1 = Car(\"Tesla\",\"White\")\n",
        "car1.show_info()"
      ],
      "execution_count": null,
      "outputs": [
        {
          "output_type": "stream",
          "text": [
            "name: Tesla , color: White\n"
          ],
          "name": "stdout"
        }
      ]
    },
    {
      "cell_type": "code",
      "metadata": {
        "colab": {
          "base_uri": "https://localhost:8080/"
        },
        "id": "zhZbE0enCKIH",
        "outputId": "21aa2111-94e9-4ecb-aa85-4cf2ff56edb8"
      },
      "source": [
        "car2 = Car(\"Hyundai\",\"Black\")\n",
        "car2.show_info()"
      ],
      "execution_count": null,
      "outputs": [
        {
          "output_type": "stream",
          "text": [
            "name: Hyundai , color: Black\n"
          ],
          "name": "stdout"
        }
      ]
    },
    {
      "cell_type": "markdown",
      "metadata": {
        "id": "pgTocnwTDkYY"
      },
      "source": [
        "# Super\n",
        "\n",
        "---\n",
        "\n",
        "Here, we called the __init__() method of the Mammal class (from the Dog class) using code \n",
        "\n",
        "- super().__init__('Dog') \n",
        "\n",
        "instead of \n",
        "\n",
        "- Mammal.__init__(self, 'Dog')"
      ]
    },
    {
      "cell_type": "code",
      "metadata": {
        "colab": {
          "base_uri": "https://localhost:8080/"
        },
        "id": "-mOX66MaDfOz",
        "outputId": "1a8f776c-5510-4790-ce32-69cc7776ea8a"
      },
      "source": [
        "class Mammal(object):\n",
        "  def __init__(self, mammalName):\n",
        "    print(mammalName, 'is a warm-blooded animal.')\n",
        "    \n",
        "class Dog(Mammal):\n",
        "  def __init__(self):\n",
        "    print('Dog has four legs.')\n",
        "    super().__init__('Dog')\n",
        "    \n",
        "d1 = Dog()"
      ],
      "execution_count": null,
      "outputs": [
        {
          "output_type": "stream",
          "text": [
            "Dog has four legs.\n",
            "Dog is a warm-blooded animal.\n"
          ],
          "name": "stdout"
        }
      ]
    }
  ]
}