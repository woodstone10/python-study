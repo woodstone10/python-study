{
  "nbformat": 4,
  "nbformat_minor": 0,
  "metadata": {
    "colab": {
      "name": "Numpy_study.ipynb",
      "provenance": [],
      "collapsed_sections": [],
      "toc_visible": true,
      "authorship_tag": "ABX9TyMsJeDytLuIz3kVPfUNmBKD",
      "include_colab_link": true
    },
    "kernelspec": {
      "name": "python3",
      "display_name": "Python 3"
    },
    "language_info": {
      "name": "python"
    }
  },
  "cells": [
    {
      "cell_type": "markdown",
      "metadata": {
        "id": "view-in-github",
        "colab_type": "text"
      },
      "source": [
        "<a href=\"https://colab.research.google.com/github/woodstone10/python-study/blob/main/Numpy_study.ipynb\" target=\"_parent\"><img src=\"https://colab.research.google.com/assets/colab-badge.svg\" alt=\"Open In Colab\"/></a>"
      ]
    },
    {
      "cell_type": "markdown",
      "metadata": {
        "id": "cffAqIlKZjWu"
      },
      "source": [
        "# Numpy study\n",
        "\n",
        "---\n",
        "\n"
      ]
    },
    {
      "cell_type": "code",
      "metadata": {
        "id": "fcnBgE18XbEe"
      },
      "source": [
        "import numpy as np"
      ],
      "execution_count": 1,
      "outputs": []
    },
    {
      "cell_type": "markdown",
      "metadata": {
        "id": "bpvZO_lRnkCn"
      },
      "source": [
        "## List data -> Array data"
      ]
    },
    {
      "cell_type": "code",
      "metadata": {
        "colab": {
          "base_uri": "https://localhost:8080/"
        },
        "id": "evJQWWEMZugM",
        "outputId": "98c09f76-2e14-44d3-d561-88bd477cc205"
      },
      "source": [
        "data = [6, 7, 8, 0, 1] #list data\n",
        "data"
      ],
      "execution_count": 2,
      "outputs": [
        {
          "output_type": "execute_result",
          "data": {
            "text/plain": [
              "[6, 7, 8, 0, 1]"
            ]
          },
          "metadata": {
            "tags": []
          },
          "execution_count": 2
        }
      ]
    },
    {
      "cell_type": "code",
      "metadata": {
        "colab": {
          "base_uri": "https://localhost:8080/"
        },
        "id": "c3QLi-wYZ8bF",
        "outputId": "6826e223-489d-4c69-cf6d-c9a0fe8af96c"
      },
      "source": [
        "arr1 = np.array(data) #array data\n",
        "arr1"
      ],
      "execution_count": 3,
      "outputs": [
        {
          "output_type": "execute_result",
          "data": {
            "text/plain": [
              "array([6, 7, 8, 0, 1])"
            ]
          },
          "metadata": {
            "tags": []
          },
          "execution_count": 3
        }
      ]
    },
    {
      "cell_type": "code",
      "metadata": {
        "colab": {
          "base_uri": "https://localhost:8080/"
        },
        "id": "2b-2MupyaLzU",
        "outputId": "2e08a0b9-9302-42c2-b8c4-5b7eeaa26eb7"
      },
      "source": [
        "data2 = [ [1,2,3,4], [5,6,7,8]]\n",
        "data2"
      ],
      "execution_count": 4,
      "outputs": [
        {
          "output_type": "execute_result",
          "data": {
            "text/plain": [
              "[[1, 2, 3, 4], [5, 6, 7, 8]]"
            ]
          },
          "metadata": {
            "tags": []
          },
          "execution_count": 4
        }
      ]
    },
    {
      "cell_type": "code",
      "metadata": {
        "colab": {
          "base_uri": "https://localhost:8080/"
        },
        "id": "d7G1jTKOaRQn",
        "outputId": "aa7b6e71-68ba-4b1d-8e0d-1f062fa9af01"
      },
      "source": [
        "arr2 = np.array(data2)\n",
        "arr2"
      ],
      "execution_count": 5,
      "outputs": [
        {
          "output_type": "execute_result",
          "data": {
            "text/plain": [
              "array([[1, 2, 3, 4],\n",
              "       [5, 6, 7, 8]])"
            ]
          },
          "metadata": {
            "tags": []
          },
          "execution_count": 5
        }
      ]
    },
    {
      "cell_type": "code",
      "metadata": {
        "colab": {
          "base_uri": "https://localhost:8080/"
        },
        "id": "Q1toGqYJaVAL",
        "outputId": "01a05553-14ca-413f-f94f-f2ecd93a53ab"
      },
      "source": [
        "arr2.ndim"
      ],
      "execution_count": 6,
      "outputs": [
        {
          "output_type": "execute_result",
          "data": {
            "text/plain": [
              "2"
            ]
          },
          "metadata": {
            "tags": []
          },
          "execution_count": 6
        }
      ]
    },
    {
      "cell_type": "code",
      "metadata": {
        "colab": {
          "base_uri": "https://localhost:8080/"
        },
        "id": "euc78_ArahFS",
        "outputId": "c7a76b93-1deb-485b-9cb5-2b068143eddf"
      },
      "source": [
        "arr2.shape"
      ],
      "execution_count": 7,
      "outputs": [
        {
          "output_type": "execute_result",
          "data": {
            "text/plain": [
              "(2, 4)"
            ]
          },
          "metadata": {
            "tags": []
          },
          "execution_count": 7
        }
      ]
    },
    {
      "cell_type": "code",
      "metadata": {
        "colab": {
          "base_uri": "https://localhost:8080/"
        },
        "id": "0UoILslFalxE",
        "outputId": "b2504c27-a5fc-4c6e-c742-4e5f686632aa"
      },
      "source": [
        "arr2.dtype"
      ],
      "execution_count": 10,
      "outputs": [
        {
          "output_type": "execute_result",
          "data": {
            "text/plain": [
              "dtype('int64')"
            ]
          },
          "metadata": {
            "tags": []
          },
          "execution_count": 10
        }
      ]
    },
    {
      "cell_type": "code",
      "metadata": {
        "colab": {
          "base_uri": "https://localhost:8080/"
        },
        "id": "8v1X40Q-aoUQ",
        "outputId": "1ab76fd5-7d9a-4cd9-fca8-05e4175311d7"
      },
      "source": [
        "np.array([1,2,3,4,5], dtype=np.float32)"
      ],
      "execution_count": 19,
      "outputs": [
        {
          "output_type": "execute_result",
          "data": {
            "text/plain": [
              "array([1., 2., 3., 4., 5.], dtype=float32)"
            ]
          },
          "metadata": {
            "tags": []
          },
          "execution_count": 19
        }
      ]
    },
    {
      "cell_type": "code",
      "metadata": {
        "colab": {
          "base_uri": "https://localhost:8080/"
        },
        "id": "gX2JxpUVa8KP",
        "outputId": "b896baf1-a284-4837-e473-4738a10ae26c"
      },
      "source": [
        "np.arange(10)"
      ],
      "execution_count": 20,
      "outputs": [
        {
          "output_type": "execute_result",
          "data": {
            "text/plain": [
              "array([0, 1, 2, 3, 4, 5, 6, 7, 8, 9])"
            ]
          },
          "metadata": {
            "tags": []
          },
          "execution_count": 20
        }
      ]
    },
    {
      "cell_type": "code",
      "metadata": {
        "colab": {
          "base_uri": "https://localhost:8080/"
        },
        "id": "NYzgW4UrbIO4",
        "outputId": "bd2bf971-3c15-4cff-81ac-f87d4970b552"
      },
      "source": [
        "np.zeros((3,4))"
      ],
      "execution_count": 18,
      "outputs": [
        {
          "output_type": "execute_result",
          "data": {
            "text/plain": [
              "array([[0., 0., 0., 0.],\n",
              "       [0., 0., 0., 0.],\n",
              "       [0., 0., 0., 0.]])"
            ]
          },
          "metadata": {
            "tags": []
          },
          "execution_count": 18
        }
      ]
    },
    {
      "cell_type": "code",
      "metadata": {
        "colab": {
          "base_uri": "https://localhost:8080/"
        },
        "id": "V1Cp8SSabZBH",
        "outputId": "c58b1765-9ade-4808-fe20-b5fccff942a6"
      },
      "source": [
        "np.ones((3,4))"
      ],
      "execution_count": 21,
      "outputs": [
        {
          "output_type": "execute_result",
          "data": {
            "text/plain": [
              "array([[1., 1., 1., 1.],\n",
              "       [1., 1., 1., 1.],\n",
              "       [1., 1., 1., 1.]])"
            ]
          },
          "metadata": {
            "tags": []
          },
          "execution_count": 21
        }
      ]
    },
    {
      "cell_type": "markdown",
      "metadata": {
        "id": "wGxguXYknd9K"
      },
      "source": [
        "## scalar computation\n",
        "\n",
        "(no for loop)"
      ]
    },
    {
      "cell_type": "code",
      "metadata": {
        "colab": {
          "base_uri": "https://localhost:8080/"
        },
        "id": "7pM_MovHbm7j",
        "outputId": "88b76053-224e-4b01-e291-a63744d81945"
      },
      "source": [
        "arr = np.array([ [1,2,3], [4,5,6]])\n",
        "arr*arr"
      ],
      "execution_count": 22,
      "outputs": [
        {
          "output_type": "execute_result",
          "data": {
            "text/plain": [
              "array([[ 1,  4,  9],\n",
              "       [16, 25, 36]])"
            ]
          },
          "metadata": {
            "tags": []
          },
          "execution_count": 22
        }
      ]
    },
    {
      "cell_type": "code",
      "metadata": {
        "colab": {
          "base_uri": "https://localhost:8080/"
        },
        "id": "es8dIAyanXKP",
        "outputId": "49cbcc31-e49f-494f-c647-b11b30e9de95"
      },
      "source": [
        "arr-arr"
      ],
      "execution_count": 23,
      "outputs": [
        {
          "output_type": "execute_result",
          "data": {
            "text/plain": [
              "array([[0, 0, 0],\n",
              "       [0, 0, 0]])"
            ]
          },
          "metadata": {
            "tags": []
          },
          "execution_count": 23
        }
      ]
    },
    {
      "cell_type": "code",
      "metadata": {
        "colab": {
          "base_uri": "https://localhost:8080/"
        },
        "id": "6AspA7BNnbVV",
        "outputId": "920698a6-68e2-4f49-912b-b2e8cdff701b"
      },
      "source": [
        "1/arr"
      ],
      "execution_count": 24,
      "outputs": [
        {
          "output_type": "execute_result",
          "data": {
            "text/plain": [
              "array([[1.        , 0.5       , 0.33333333],\n",
              "       [0.25      , 0.2       , 0.16666667]])"
            ]
          },
          "metadata": {
            "tags": []
          },
          "execution_count": 24
        }
      ]
    },
    {
      "cell_type": "code",
      "metadata": {
        "colab": {
          "base_uri": "https://localhost:8080/"
        },
        "id": "lPGUamAonshC",
        "outputId": "4de822c3-d4a4-4c7d-aca9-c78cf5d78fc2"
      },
      "source": [
        "arr = np.arange(10)\n",
        "arr"
      ],
      "execution_count": 25,
      "outputs": [
        {
          "output_type": "execute_result",
          "data": {
            "text/plain": [
              "array([0, 1, 2, 3, 4, 5, 6, 7, 8, 9])"
            ]
          },
          "metadata": {
            "tags": []
          },
          "execution_count": 25
        }
      ]
    },
    {
      "cell_type": "code",
      "metadata": {
        "colab": {
          "base_uri": "https://localhost:8080/"
        },
        "id": "j5DDHCpCn-vp",
        "outputId": "e0fa0de7-a745-4595-919c-9b106046f90a"
      },
      "source": [
        "arr[5] #indexing"
      ],
      "execution_count": 26,
      "outputs": [
        {
          "output_type": "execute_result",
          "data": {
            "text/plain": [
              "5"
            ]
          },
          "metadata": {
            "tags": []
          },
          "execution_count": 26
        }
      ]
    },
    {
      "cell_type": "code",
      "metadata": {
        "colab": {
          "base_uri": "https://localhost:8080/"
        },
        "id": "yUFuGf0JoAgZ",
        "outputId": "f0331a96-9419-4ed7-9be3-386ebcfe8781"
      },
      "source": [
        "arr[5:8] #slicing"
      ],
      "execution_count": 27,
      "outputs": [
        {
          "output_type": "execute_result",
          "data": {
            "text/plain": [
              "array([5, 6, 7])"
            ]
          },
          "metadata": {
            "tags": []
          },
          "execution_count": 27
        }
      ]
    },
    {
      "cell_type": "code",
      "metadata": {
        "colab": {
          "base_uri": "https://localhost:8080/"
        },
        "id": "M_1bwwi4oD46",
        "outputId": "bf155eb3-e9d2-4485-f978-20fb321e02fa"
      },
      "source": [
        "arr[5:8]=12\n",
        "arr"
      ],
      "execution_count": 28,
      "outputs": [
        {
          "output_type": "execute_result",
          "data": {
            "text/plain": [
              "array([ 0,  1,  2,  3,  4, 12, 12, 12,  8,  9])"
            ]
          },
          "metadata": {
            "tags": []
          },
          "execution_count": 28
        }
      ]
    },
    {
      "cell_type": "code",
      "metadata": {
        "colab": {
          "base_uri": "https://localhost:8080/"
        },
        "id": "3vSgrG07oHRX",
        "outputId": "f952af22-1db6-40e6-d6f3-3c593b1db617"
      },
      "source": [
        "arr = np.array([ [1,2,3], [4,5,6], [7,8,9]])\n",
        "arr"
      ],
      "execution_count": 29,
      "outputs": [
        {
          "output_type": "execute_result",
          "data": {
            "text/plain": [
              "array([[1, 2, 3],\n",
              "       [4, 5, 6],\n",
              "       [7, 8, 9]])"
            ]
          },
          "metadata": {
            "tags": []
          },
          "execution_count": 29
        }
      ]
    },
    {
      "cell_type": "code",
      "metadata": {
        "colab": {
          "base_uri": "https://localhost:8080/"
        },
        "id": "qN6-ZEWHoVTS",
        "outputId": "0b287fb6-e529-4018-e42b-460d108172c8"
      },
      "source": [
        "arr[1,0] #==arr[1][0]"
      ],
      "execution_count": 31,
      "outputs": [
        {
          "output_type": "execute_result",
          "data": {
            "text/plain": [
              "4"
            ]
          },
          "metadata": {
            "tags": []
          },
          "execution_count": 31
        }
      ]
    },
    {
      "cell_type": "code",
      "metadata": {
        "colab": {
          "base_uri": "https://localhost:8080/"
        },
        "id": "V6KPcFGeoYAc",
        "outputId": "c3eda38e-bef5-4bb6-c90d-0e6a893cc58f"
      },
      "source": [
        "arr[:2, 1:]"
      ],
      "execution_count": 32,
      "outputs": [
        {
          "output_type": "execute_result",
          "data": {
            "text/plain": [
              "array([[2, 3],\n",
              "       [5, 6]])"
            ]
          },
          "metadata": {
            "tags": []
          },
          "execution_count": 32
        }
      ]
    },
    {
      "cell_type": "code",
      "metadata": {
        "colab": {
          "base_uri": "https://localhost:8080/"
        },
        "id": "93R0HUeqokaB",
        "outputId": "440d38f2-78d1-463c-9474-ae4cebeaf51d"
      },
      "source": [
        "data = np.random.randn(7,4)\n",
        "data"
      ],
      "execution_count": 33,
      "outputs": [
        {
          "output_type": "execute_result",
          "data": {
            "text/plain": [
              "array([[ 1.31261643, -0.35928233,  2.13125264,  0.11385937],\n",
              "       [ 1.19268152,  0.36198833, -1.57346425, -1.20460632],\n",
              "       [ 1.45858889,  0.38325884,  1.57063541,  2.76095069],\n",
              "       [-0.36864374,  0.35671719, -2.41254046,  0.61791254],\n",
              "       [ 0.21417184,  0.58780718,  3.19109852, -0.21792252],\n",
              "       [-1.00347088,  1.22039985, -1.18743115,  1.31409033],\n",
              "       [ 0.10145314,  0.27115576,  0.92707221, -2.29943121]])"
            ]
          },
          "metadata": {
            "tags": []
          },
          "execution_count": 33
        }
      ]
    },
    {
      "cell_type": "code",
      "metadata": {
        "colab": {
          "base_uri": "https://localhost:8080/"
        },
        "id": "3uRmhFexo8ZN",
        "outputId": "971435e8-9f07-49c0-e47e-b5eb6fcbbe16"
      },
      "source": [
        "names = np.array(['a','b','c','d','e','f','g'])\n",
        "names"
      ],
      "execution_count": 34,
      "outputs": [
        {
          "output_type": "execute_result",
          "data": {
            "text/plain": [
              "array(['a', 'b', 'c', 'd', 'e', 'f', 'g'], dtype='<U1')"
            ]
          },
          "metadata": {
            "tags": []
          },
          "execution_count": 34
        }
      ]
    },
    {
      "cell_type": "code",
      "metadata": {
        "colab": {
          "base_uri": "https://localhost:8080/"
        },
        "id": "vxUXAVOapH69",
        "outputId": "77350229-42cb-4569-ec43-b35b0e4f2260"
      },
      "source": [
        "data[names=='a'] #indexing with boolean"
      ],
      "execution_count": 35,
      "outputs": [
        {
          "output_type": "execute_result",
          "data": {
            "text/plain": [
              "array([[ 1.31261643, -0.35928233,  2.13125264,  0.11385937]])"
            ]
          },
          "metadata": {
            "tags": []
          },
          "execution_count": 35
        }
      ]
    },
    {
      "cell_type": "code",
      "metadata": {
        "colab": {
          "base_uri": "https://localhost:8080/"
        },
        "id": "ADMiIBbspfrJ",
        "outputId": "aa79e043-dede-41f3-9158-dff1546ab8e2"
      },
      "source": [
        "data[names=='a',3]"
      ],
      "execution_count": 36,
      "outputs": [
        {
          "output_type": "execute_result",
          "data": {
            "text/plain": [
              "array([0.11385937])"
            ]
          },
          "metadata": {
            "tags": []
          },
          "execution_count": 36
        }
      ]
    },
    {
      "cell_type": "code",
      "metadata": {
        "colab": {
          "base_uri": "https://localhost:8080/"
        },
        "id": "LShvGzJBpo4P",
        "outputId": "9ceccc62-1fe7-4f62-e011-05445636c0b6"
      },
      "source": [
        "data[names=='a',2:]"
      ],
      "execution_count": 37,
      "outputs": [
        {
          "output_type": "execute_result",
          "data": {
            "text/plain": [
              "array([[2.13125264, 0.11385937]])"
            ]
          },
          "metadata": {
            "tags": []
          },
          "execution_count": 37
        }
      ]
    },
    {
      "cell_type": "code",
      "metadata": {
        "colab": {
          "base_uri": "https://localhost:8080/"
        },
        "id": "PZnJPjKmp5PA",
        "outputId": "07699c2a-e429-4e25-dc8c-40c1f4ba4bd5"
      },
      "source": [
        "arr = np.empty((8,4))\n",
        "arr"
      ],
      "execution_count": 39,
      "outputs": [
        {
          "output_type": "execute_result",
          "data": {
            "text/plain": [
              "array([[4.65942517e-310, 0.00000000e+000, 0.00000000e+000,\n",
              "        0.00000000e+000],\n",
              "       [0.00000000e+000, 0.00000000e+000, 0.00000000e+000,\n",
              "        0.00000000e+000],\n",
              "       [0.00000000e+000, 0.00000000e+000, 0.00000000e+000,\n",
              "        0.00000000e+000],\n",
              "       [0.00000000e+000, 0.00000000e+000, 0.00000000e+000,\n",
              "        0.00000000e+000],\n",
              "       [0.00000000e+000, 0.00000000e+000, 0.00000000e+000,\n",
              "        0.00000000e+000],\n",
              "       [0.00000000e+000, 0.00000000e+000, 0.00000000e+000,\n",
              "        0.00000000e+000],\n",
              "       [0.00000000e+000, 0.00000000e+000, 0.00000000e+000,\n",
              "        0.00000000e+000],\n",
              "       [0.00000000e+000, 0.00000000e+000, 0.00000000e+000,\n",
              "        0.00000000e+000]])"
            ]
          },
          "metadata": {
            "tags": []
          },
          "execution_count": 39
        }
      ]
    },
    {
      "cell_type": "code",
      "metadata": {
        "colab": {
          "base_uri": "https://localhost:8080/"
        },
        "id": "vKmwlz1ZqbwX",
        "outputId": "c512f227-d54a-40fb-babd-0560827dea0d"
      },
      "source": [
        "for i in range(8):\n",
        "  arr[i] = i\n",
        "arr"
      ],
      "execution_count": 41,
      "outputs": [
        {
          "output_type": "execute_result",
          "data": {
            "text/plain": [
              "array([[0., 0., 0., 0.],\n",
              "       [1., 1., 1., 1.],\n",
              "       [2., 2., 2., 2.],\n",
              "       [3., 3., 3., 3.],\n",
              "       [4., 4., 4., 4.],\n",
              "       [5., 5., 5., 5.],\n",
              "       [6., 6., 6., 6.],\n",
              "       [7., 7., 7., 7.]])"
            ]
          },
          "metadata": {
            "tags": []
          },
          "execution_count": 41
        }
      ]
    },
    {
      "cell_type": "code",
      "metadata": {
        "colab": {
          "base_uri": "https://localhost:8080/"
        },
        "id": "LY2EoFZYqrVt",
        "outputId": "f83609f1-0ef9-43d0-fde5-15b3ee995850"
      },
      "source": [
        "arr[[4]]"
      ],
      "execution_count": 42,
      "outputs": [
        {
          "output_type": "execute_result",
          "data": {
            "text/plain": [
              "array([[4., 4., 4., 4.]])"
            ]
          },
          "metadata": {
            "tags": []
          },
          "execution_count": 42
        }
      ]
    },
    {
      "cell_type": "code",
      "metadata": {
        "colab": {
          "base_uri": "https://localhost:8080/"
        },
        "id": "wX5t9y60q1sD",
        "outputId": "7fb35a4e-962e-45a1-80cf-a61723e62a0e"
      },
      "source": [
        "arr[[-1]]"
      ],
      "execution_count": 43,
      "outputs": [
        {
          "output_type": "execute_result",
          "data": {
            "text/plain": [
              "array([[7., 7., 7., 7.]])"
            ]
          },
          "metadata": {
            "tags": []
          },
          "execution_count": 43
        }
      ]
    },
    {
      "cell_type": "code",
      "metadata": {
        "colab": {
          "base_uri": "https://localhost:8080/"
        },
        "id": "AFnDHwUkq4wX",
        "outputId": "827bf672-1b62-499c-9c56-b7de0841412e"
      },
      "source": [
        "arr[[4, -1]]"
      ],
      "execution_count": 44,
      "outputs": [
        {
          "output_type": "execute_result",
          "data": {
            "text/plain": [
              "array([[4., 4., 4., 4.],\n",
              "       [7., 7., 7., 7.]])"
            ]
          },
          "metadata": {
            "tags": []
          },
          "execution_count": 44
        }
      ]
    },
    {
      "cell_type": "code",
      "metadata": {
        "colab": {
          "base_uri": "https://localhost:8080/"
        },
        "id": "K02QUy-lq-2O",
        "outputId": "2ff17442-a167-485c-9af9-8b35a66920e1"
      },
      "source": [
        "arr = np.arange(8)\n",
        "arr"
      ],
      "execution_count": 45,
      "outputs": [
        {
          "output_type": "execute_result",
          "data": {
            "text/plain": [
              "array([0, 1, 2, 3, 4, 5, 6, 7])"
            ]
          },
          "metadata": {
            "tags": []
          },
          "execution_count": 45
        }
      ]
    },
    {
      "cell_type": "code",
      "metadata": {
        "colab": {
          "base_uri": "https://localhost:8080/"
        },
        "id": "FHlGtBKZtPuk",
        "outputId": "808d3fb7-c56d-4da6-8bce-ba4d65a5624f"
      },
      "source": [
        "arr.reshape((4,2))"
      ],
      "execution_count": 47,
      "outputs": [
        {
          "output_type": "execute_result",
          "data": {
            "text/plain": [
              "array([[0, 1],\n",
              "       [2, 3],\n",
              "       [4, 5],\n",
              "       [6, 7]])"
            ]
          },
          "metadata": {
            "tags": []
          },
          "execution_count": 47
        }
      ]
    },
    {
      "cell_type": "code",
      "metadata": {
        "colab": {
          "base_uri": "https://localhost:8080/"
        },
        "id": "UlzXnjWatTa1",
        "outputId": "d6d09cdb-8192-4ec9-fb27-9fa3f5a4c411"
      },
      "source": [
        "arr2 = arr.reshape((2,4))\n",
        "arr2"
      ],
      "execution_count": 51,
      "outputs": [
        {
          "output_type": "execute_result",
          "data": {
            "text/plain": [
              "array([[0, 1, 2, 3],\n",
              "       [4, 5, 6, 7]])"
            ]
          },
          "metadata": {
            "tags": []
          },
          "execution_count": 51
        }
      ]
    },
    {
      "cell_type": "code",
      "metadata": {
        "colab": {
          "base_uri": "https://localhost:8080/"
        },
        "id": "wIUdBXaItXzf",
        "outputId": "e7356704-81e3-419b-e20c-e3a858c504f1"
      },
      "source": [
        "arr2.T"
      ],
      "execution_count": 52,
      "outputs": [
        {
          "output_type": "execute_result",
          "data": {
            "text/plain": [
              "array([[0, 4],\n",
              "       [1, 5],\n",
              "       [2, 6],\n",
              "       [3, 7]])"
            ]
          },
          "metadata": {
            "tags": []
          },
          "execution_count": 52
        }
      ]
    },
    {
      "cell_type": "markdown",
      "metadata": {
        "id": "mTYeyAkSukaE"
      },
      "source": [
        "## universal functions"
      ]
    },
    {
      "cell_type": "code",
      "metadata": {
        "colab": {
          "base_uri": "https://localhost:8080/"
        },
        "id": "chdbrQgMtv3j",
        "outputId": "13c3626c-fd13-4d8d-f1eb-a16b15de2045"
      },
      "source": [
        "arr = np.arange(10)\n",
        "arr"
      ],
      "execution_count": 54,
      "outputs": [
        {
          "output_type": "execute_result",
          "data": {
            "text/plain": [
              "array([0, 1, 2, 3, 4, 5, 6, 7, 8, 9])"
            ]
          },
          "metadata": {
            "tags": []
          },
          "execution_count": 54
        }
      ]
    },
    {
      "cell_type": "code",
      "metadata": {
        "colab": {
          "base_uri": "https://localhost:8080/"
        },
        "id": "L54H-AQbu9Il",
        "outputId": "f445d402-b85f-448c-f116-c9f572bff530"
      },
      "source": [
        "np.sqrt(arr)"
      ],
      "execution_count": 55,
      "outputs": [
        {
          "output_type": "execute_result",
          "data": {
            "text/plain": [
              "array([0.        , 1.        , 1.41421356, 1.73205081, 2.        ,\n",
              "       2.23606798, 2.44948974, 2.64575131, 2.82842712, 3.        ])"
            ]
          },
          "metadata": {
            "tags": []
          },
          "execution_count": 55
        }
      ]
    },
    {
      "cell_type": "code",
      "metadata": {
        "colab": {
          "base_uri": "https://localhost:8080/"
        },
        "id": "IMejVKvhvBbG",
        "outputId": "a8adf4d9-4d13-46c0-b22f-d71515dbc250"
      },
      "source": [
        "np.exp(arr)"
      ],
      "execution_count": 56,
      "outputs": [
        {
          "output_type": "execute_result",
          "data": {
            "text/plain": [
              "array([1.00000000e+00, 2.71828183e+00, 7.38905610e+00, 2.00855369e+01,\n",
              "       5.45981500e+01, 1.48413159e+02, 4.03428793e+02, 1.09663316e+03,\n",
              "       2.98095799e+03, 8.10308393e+03])"
            ]
          },
          "metadata": {
            "tags": []
          },
          "execution_count": 56
        }
      ]
    },
    {
      "cell_type": "code",
      "metadata": {
        "colab": {
          "base_uri": "https://localhost:8080/"
        },
        "id": "OdJKRaEyvDhG",
        "outputId": "7076caa1-df9f-4aee-c75e-4949ca0e2b9c"
      },
      "source": [
        "x = np.random.randn(8)\n",
        "x"
      ],
      "execution_count": 57,
      "outputs": [
        {
          "output_type": "execute_result",
          "data": {
            "text/plain": [
              "array([-0.35667083,  2.17909508, -0.28410555,  0.23815735,  0.62723748,\n",
              "       -0.95429007,  1.14523461, -1.12603501])"
            ]
          },
          "metadata": {
            "tags": []
          },
          "execution_count": 57
        }
      ]
    },
    {
      "cell_type": "code",
      "metadata": {
        "colab": {
          "base_uri": "https://localhost:8080/"
        },
        "id": "5o0pNinRvJmG",
        "outputId": "619b6c3e-a2d6-4a94-92b0-cd06c730c2b0"
      },
      "source": [
        "y = np.random.randn(8)\n",
        "y"
      ],
      "execution_count": 58,
      "outputs": [
        {
          "output_type": "execute_result",
          "data": {
            "text/plain": [
              "array([ 0.57116186, -0.83813569,  0.27300112,  0.23050365,  1.38050276,\n",
              "       -0.91002974,  1.04751485, -0.60954989])"
            ]
          },
          "metadata": {
            "tags": []
          },
          "execution_count": 58
        }
      ]
    },
    {
      "cell_type": "code",
      "metadata": {
        "colab": {
          "base_uri": "https://localhost:8080/"
        },
        "id": "DBKI0NWfvOVG",
        "outputId": "5739cd4a-2334-4d08-9922-9389912b1c8e"
      },
      "source": [
        "np.maximum(x,y)"
      ],
      "execution_count": 63,
      "outputs": [
        {
          "output_type": "execute_result",
          "data": {
            "text/plain": [
              "array([ 0.57116186,  2.17909508,  0.27300112,  0.23815735,  1.38050276,\n",
              "       -0.91002974,  1.14523461, -0.60954989])"
            ]
          },
          "metadata": {
            "tags": []
          },
          "execution_count": 63
        }
      ]
    },
    {
      "cell_type": "code",
      "metadata": {
        "colab": {
          "base_uri": "https://localhost:8080/"
        },
        "id": "iSDElkREvQeL",
        "outputId": "4d7db815-cc00-4461-94f3-d193ec6f1aee"
      },
      "source": [
        "np.cos(x)"
      ],
      "execution_count": 64,
      "outputs": [
        {
          "output_type": "execute_result",
          "data": {
            "text/plain": [
              "array([ 0.93706442, -0.57147221,  0.95991275,  0.97177433,  0.80965195,\n",
              "        0.57818814,  0.41283247,  0.43024243])"
            ]
          },
          "metadata": {
            "tags": []
          },
          "execution_count": 64
        }
      ]
    },
    {
      "cell_type": "code",
      "metadata": {
        "colab": {
          "base_uri": "https://localhost:8080/"
        },
        "id": "Xtlxuo1qwOFh",
        "outputId": "ed342b67-b1cc-416e-e406-05505cfbda60"
      },
      "source": [
        "x = np.array([1,2,3,4,5])\n",
        "x"
      ],
      "execution_count": 69,
      "outputs": [
        {
          "output_type": "execute_result",
          "data": {
            "text/plain": [
              "array([1, 2, 3, 4, 5])"
            ]
          },
          "metadata": {
            "tags": []
          },
          "execution_count": 69
        }
      ]
    },
    {
      "cell_type": "code",
      "metadata": {
        "colab": {
          "base_uri": "https://localhost:8080/"
        },
        "id": "gSBaBmEyw3gU",
        "outputId": "a0249d2e-c615-440d-cc73-67f1c70d223b"
      },
      "source": [
        "y = np.array([11,12,13,14,15])\n",
        "y"
      ],
      "execution_count": 70,
      "outputs": [
        {
          "output_type": "execute_result",
          "data": {
            "text/plain": [
              "array([11, 12, 13, 14, 15])"
            ]
          },
          "metadata": {
            "tags": []
          },
          "execution_count": 70
        }
      ]
    },
    {
      "cell_type": "code",
      "metadata": {
        "colab": {
          "base_uri": "https://localhost:8080/"
        },
        "id": "BAQax64TJPO4",
        "outputId": "8b047bc7-15a9-421d-ea2b-5b15e3e37417"
      },
      "source": [
        "cond = np.array([True,False,True,True,False])\n",
        "cond"
      ],
      "execution_count": 71,
      "outputs": [
        {
          "output_type": "execute_result",
          "data": {
            "text/plain": [
              "array([ True, False,  True,  True, False])"
            ]
          },
          "metadata": {
            "tags": []
          },
          "execution_count": 71
        }
      ]
    },
    {
      "cell_type": "markdown",
      "metadata": {
        "id": "zI76FnFkKVM3"
      },
      "source": [
        "zip and where"
      ]
    },
    {
      "cell_type": "code",
      "metadata": {
        "colab": {
          "base_uri": "https://localhost:8080/"
        },
        "id": "zDyouEODJZAN",
        "outputId": "935f35ea-791e-48d3-ffe1-139fc9e6a38a"
      },
      "source": [
        "result = [ (x1 if c1 else y1) for x1, y1, c1 in zip(x,y,cond) ]\n",
        "result"
      ],
      "execution_count": 72,
      "outputs": [
        {
          "output_type": "execute_result",
          "data": {
            "text/plain": [
              "[1, 12, 3, 4, 15]"
            ]
          },
          "metadata": {
            "tags": []
          },
          "execution_count": 72
        }
      ]
    },
    {
      "cell_type": "code",
      "metadata": {
        "colab": {
          "base_uri": "https://localhost:8080/"
        },
        "id": "_QwJ1E5eJ7cT",
        "outputId": "3cde6631-a4da-495d-d75d-303e28565c0f"
      },
      "source": [
        "result2 = np.where(cond,x,y)\n",
        "result2"
      ],
      "execution_count": 73,
      "outputs": [
        {
          "output_type": "execute_result",
          "data": {
            "text/plain": [
              "array([ 1, 12,  3,  4, 15])"
            ]
          },
          "metadata": {
            "tags": []
          },
          "execution_count": 73
        }
      ]
    },
    {
      "cell_type": "code",
      "metadata": {
        "colab": {
          "base_uri": "https://localhost:8080/"
        },
        "id": "FBVjCl5HKJFi",
        "outputId": "5a19eec9-3071-4350-e914-9a23a96ed935"
      },
      "source": [
        "result2 = np.where(cond==True,x,y)\n",
        "result2"
      ],
      "execution_count": 74,
      "outputs": [
        {
          "output_type": "execute_result",
          "data": {
            "text/plain": [
              "array([ 1, 12,  3,  4, 15])"
            ]
          },
          "metadata": {
            "tags": []
          },
          "execution_count": 74
        }
      ]
    },
    {
      "cell_type": "code",
      "metadata": {
        "colab": {
          "base_uri": "https://localhost:8080/"
        },
        "id": "7pvhtEOwKpYx",
        "outputId": "d475208b-1efa-456f-d3fb-db9c62e07979"
      },
      "source": [
        "result2 = np.where(cond==False,x,y)\n",
        "result2"
      ],
      "execution_count": 75,
      "outputs": [
        {
          "output_type": "execute_result",
          "data": {
            "text/plain": [
              "array([11,  2, 13, 14,  5])"
            ]
          },
          "metadata": {
            "tags": []
          },
          "execution_count": 75
        }
      ]
    },
    {
      "cell_type": "code",
      "metadata": {
        "colab": {
          "base_uri": "https://localhost:8080/"
        },
        "id": "-57tLV0dKsGv",
        "outputId": "9719c8e8-0667-42f8-f83a-26fd98270d2c"
      },
      "source": [
        "result2 = np.where(x>2,cond,y)\n",
        "result2"
      ],
      "execution_count": 76,
      "outputs": [
        {
          "output_type": "execute_result",
          "data": {
            "text/plain": [
              "array([11, 12,  1,  1,  0])"
            ]
          },
          "metadata": {
            "tags": []
          },
          "execution_count": 76
        }
      ]
    },
    {
      "cell_type": "markdown",
      "metadata": {
        "id": "2TJOG27aLhYg"
      },
      "source": [
        "Math and Statistic"
      ]
    },
    {
      "cell_type": "code",
      "metadata": {
        "colab": {
          "base_uri": "https://localhost:8080/"
        },
        "id": "YTjiAYZrK0mp",
        "outputId": "8e556ea6-db94-4c64-de06-e45102bce71b"
      },
      "source": [
        "arr = np.random.randn(5,4)\n",
        "arr"
      ],
      "execution_count": 77,
      "outputs": [
        {
          "output_type": "execute_result",
          "data": {
            "text/plain": [
              "array([[-0.66018612, -0.4866443 ,  1.68381173, -0.17950533],\n",
              "       [-1.22228239, -1.31398164,  1.42196432, -1.20440497],\n",
              "       [-0.68768292, -1.00073954,  1.35919399,  0.41786696],\n",
              "       [-1.67608928, -0.24696329, -0.40672049,  0.04745844],\n",
              "       [-0.04083725, -0.45209496, -0.84348274, -0.27822747]])"
            ]
          },
          "metadata": {
            "tags": []
          },
          "execution_count": 77
        }
      ]
    },
    {
      "cell_type": "code",
      "metadata": {
        "colab": {
          "base_uri": "https://localhost:8080/"
        },
        "id": "tyKMjK3IL9SN",
        "outputId": "79572870-78e9-46d3-8c07-6b64fb67fdfa"
      },
      "source": [
        "arr.mean()"
      ],
      "execution_count": 78,
      "outputs": [
        {
          "output_type": "execute_result",
          "data": {
            "text/plain": [
              "-0.28847736321832007"
            ]
          },
          "metadata": {
            "tags": []
          },
          "execution_count": 78
        }
      ]
    },
    {
      "cell_type": "code",
      "metadata": {
        "colab": {
          "base_uri": "https://localhost:8080/"
        },
        "id": "xzVgS3knMAqF",
        "outputId": "b82385d9-ccd7-476c-937d-538103d7deba"
      },
      "source": [
        "np.mean(arr)"
      ],
      "execution_count": 79,
      "outputs": [
        {
          "output_type": "execute_result",
          "data": {
            "text/plain": [
              "-0.28847736321832007"
            ]
          },
          "metadata": {
            "tags": []
          },
          "execution_count": 79
        }
      ]
    },
    {
      "cell_type": "code",
      "metadata": {
        "colab": {
          "base_uri": "https://localhost:8080/"
        },
        "id": "tOlepBexMJWV",
        "outputId": "6a376e6e-138a-46e3-a06b-c921871f831d"
      },
      "source": [
        "arr.sum()"
      ],
      "execution_count": 80,
      "outputs": [
        {
          "output_type": "execute_result",
          "data": {
            "text/plain": [
              "-5.769547264366402"
            ]
          },
          "metadata": {
            "tags": []
          },
          "execution_count": 80
        }
      ]
    },
    {
      "cell_type": "code",
      "metadata": {
        "colab": {
          "base_uri": "https://localhost:8080/"
        },
        "id": "yy0lK6QwMLiT",
        "outputId": "c0662263-a797-411f-a91c-596512c447cc"
      },
      "source": [
        "arr.mean(axis=0) #X-axis"
      ],
      "execution_count": 81,
      "outputs": [
        {
          "output_type": "execute_result",
          "data": {
            "text/plain": [
              "array([-0.85741559, -0.70008475,  0.64295336, -0.23936248])"
            ]
          },
          "metadata": {
            "tags": []
          },
          "execution_count": 81
        }
      ]
    },
    {
      "cell_type": "code",
      "metadata": {
        "colab": {
          "base_uri": "https://localhost:8080/"
        },
        "id": "AGPLutLpMQ0K",
        "outputId": "7e3a1a8b-5632-4e4c-92a6-7afa8a38803c"
      },
      "source": [
        "arr.mean(axis=1) #Y-axis"
      ],
      "execution_count": 82,
      "outputs": [
        {
          "output_type": "execute_result",
          "data": {
            "text/plain": [
              "array([ 0.08936899, -0.57967617,  0.02215962, -0.57057865, -0.40366061])"
            ]
          },
          "metadata": {
            "tags": []
          },
          "execution_count": 82
        }
      ]
    },
    {
      "cell_type": "code",
      "metadata": {
        "colab": {
          "base_uri": "https://localhost:8080/"
        },
        "id": "JN70NiW4MXJX",
        "outputId": "5f3c435c-07ac-43cd-e16b-83884d78eac5"
      },
      "source": [
        "arr = np.arange(1,11)\n",
        "arr"
      ],
      "execution_count": 93,
      "outputs": [
        {
          "output_type": "execute_result",
          "data": {
            "text/plain": [
              "array([ 1,  2,  3,  4,  5,  6,  7,  8,  9, 10])"
            ]
          },
          "metadata": {
            "tags": []
          },
          "execution_count": 93
        }
      ]
    },
    {
      "cell_type": "code",
      "metadata": {
        "colab": {
          "base_uri": "https://localhost:8080/"
        },
        "id": "IszCdlCGMrKW",
        "outputId": "8dfc173c-bce2-4078-c83b-0fa788679cc0"
      },
      "source": [
        "arr.cumsum()"
      ],
      "execution_count": 94,
      "outputs": [
        {
          "output_type": "execute_result",
          "data": {
            "text/plain": [
              "array([ 1,  3,  6, 10, 15, 21, 28, 36, 45, 55])"
            ]
          },
          "metadata": {
            "tags": []
          },
          "execution_count": 94
        }
      ]
    },
    {
      "cell_type": "code",
      "metadata": {
        "colab": {
          "base_uri": "https://localhost:8080/"
        },
        "id": "BET9GeAnM0jd",
        "outputId": "bd8ba5e1-8069-4fa0-c8c7-037ba065e8da"
      },
      "source": [
        "arr.cumprod()"
      ],
      "execution_count": 95,
      "outputs": [
        {
          "output_type": "execute_result",
          "data": {
            "text/plain": [
              "array([      1,       2,       6,      24,     120,     720,    5040,\n",
              "         40320,  362880, 3628800])"
            ]
          },
          "metadata": {
            "tags": []
          },
          "execution_count": 95
        }
      ]
    },
    {
      "cell_type": "code",
      "metadata": {
        "colab": {
          "base_uri": "https://localhost:8080/"
        },
        "id": "KellSpCWNERS",
        "outputId": "8e1da644-78e1-4c87-a4ce-5f36058eb29d"
      },
      "source": [
        "arr.sum()"
      ],
      "execution_count": 96,
      "outputs": [
        {
          "output_type": "execute_result",
          "data": {
            "text/plain": [
              "55"
            ]
          },
          "metadata": {
            "tags": []
          },
          "execution_count": 96
        }
      ]
    },
    {
      "cell_type": "code",
      "metadata": {
        "colab": {
          "base_uri": "https://localhost:8080/"
        },
        "id": "v29ibxLiOGZP",
        "outputId": "8f55d71c-43f0-4596-bda9-670aaa9f9ed7"
      },
      "source": [
        "arr.any()"
      ],
      "execution_count": 98,
      "outputs": [
        {
          "output_type": "execute_result",
          "data": {
            "text/plain": [
              "True"
            ]
          },
          "metadata": {
            "tags": []
          },
          "execution_count": 98
        }
      ]
    },
    {
      "cell_type": "code",
      "metadata": {
        "colab": {
          "base_uri": "https://localhost:8080/"
        },
        "id": "teSI8xldOZJk",
        "outputId": "88acd62d-37de-4746-a89f-34b7232a8859"
      },
      "source": [
        "arr.all()"
      ],
      "execution_count": 99,
      "outputs": [
        {
          "output_type": "execute_result",
          "data": {
            "text/plain": [
              "True"
            ]
          },
          "metadata": {
            "tags": []
          },
          "execution_count": 99
        }
      ]
    },
    {
      "cell_type": "code",
      "metadata": {
        "colab": {
          "base_uri": "https://localhost:8080/"
        },
        "id": "_9XQ0-dFPUtx",
        "outputId": "dfb559e9-fbb7-4522-b208-2e53efb0f6e1"
      },
      "source": [
        "arr = np.random.randn(5,4)\n",
        "arr"
      ],
      "execution_count": 104,
      "outputs": [
        {
          "output_type": "execute_result",
          "data": {
            "text/plain": [
              "array([[ 0.38459922, -0.68498917, -0.00942674,  2.04921444],\n",
              "       [ 1.09931672, -1.27906299, -1.5552042 , -0.84527859],\n",
              "       [ 0.18727773,  2.00015059,  0.86821868, -0.9387164 ],\n",
              "       [ 0.14583788,  0.09834803,  0.03953923, -0.77396206],\n",
              "       [-1.45328074, -0.19950556,  0.51258435, -0.1970348 ]])"
            ]
          },
          "metadata": {
            "tags": []
          },
          "execution_count": 104
        }
      ]
    },
    {
      "cell_type": "code",
      "metadata": {
        "colab": {
          "base_uri": "https://localhost:8080/"
        },
        "id": "UoS6mWHXODRF",
        "outputId": "0c10ef67-ccbd-47ce-ca7d-66fbb20239b2"
      },
      "source": [
        "arr[(arr>2).any()]"
      ],
      "execution_count": 105,
      "outputs": [
        {
          "output_type": "execute_result",
          "data": {
            "text/plain": [
              "array([[[ 0.38459922, -0.68498917, -0.00942674,  2.04921444],\n",
              "        [ 1.09931672, -1.27906299, -1.5552042 , -0.84527859],\n",
              "        [ 0.18727773,  2.00015059,  0.86821868, -0.9387164 ],\n",
              "        [ 0.14583788,  0.09834803,  0.03953923, -0.77396206],\n",
              "        [-1.45328074, -0.19950556,  0.51258435, -0.1970348 ]]])"
            ]
          },
          "metadata": {
            "tags": []
          },
          "execution_count": 105
        }
      ]
    },
    {
      "cell_type": "code",
      "metadata": {
        "colab": {
          "base_uri": "https://localhost:8080/"
        },
        "id": "886m7TIjOa5J",
        "outputId": "007c339c-b697-4c5a-8852-45a07dfcfff4"
      },
      "source": [
        "arr[(arr>2).any(axis=1)]"
      ],
      "execution_count": 108,
      "outputs": [
        {
          "output_type": "execute_result",
          "data": {
            "text/plain": [
              "array([[ 0.38459922, -0.68498917, -0.00942674,  2.04921444],\n",
              "       [ 0.18727773,  2.00015059,  0.86821868, -0.9387164 ]])"
            ]
          },
          "metadata": {
            "tags": []
          },
          "execution_count": 108
        }
      ]
    },
    {
      "cell_type": "code",
      "metadata": {
        "colab": {
          "base_uri": "https://localhost:8080/"
        },
        "id": "aiJcWNqoPG_B",
        "outputId": "0947d92a-25ed-4164-c9f7-6b8fdf1fdc26"
      },
      "source": [
        "arr.sort(axis=0)\n",
        "arr"
      ],
      "execution_count": 110,
      "outputs": [
        {
          "output_type": "execute_result",
          "data": {
            "text/plain": [
              "array([[-1.45328074, -1.27906299, -1.5552042 , -0.9387164 ],\n",
              "       [ 0.14583788, -0.68498917, -0.00942674, -0.84527859],\n",
              "       [ 0.18727773, -0.19950556,  0.03953923, -0.77396206],\n",
              "       [ 0.38459922,  0.09834803,  0.51258435, -0.1970348 ],\n",
              "       [ 1.09931672,  2.00015059,  0.86821868,  2.04921444]])"
            ]
          },
          "metadata": {
            "tags": []
          },
          "execution_count": 110
        }
      ]
    },
    {
      "cell_type": "code",
      "metadata": {
        "colab": {
          "base_uri": "https://localhost:8080/"
        },
        "id": "wXIv7XoqP0Yo",
        "outputId": "09dd22f4-fda6-4ede-8937-2bf4f8c77bda"
      },
      "source": [
        "arr.sort(axis=1)\n",
        "arr"
      ],
      "execution_count": 111,
      "outputs": [
        {
          "output_type": "execute_result",
          "data": {
            "text/plain": [
              "array([[-1.5552042 , -1.45328074, -1.27906299, -0.9387164 ],\n",
              "       [-0.84527859, -0.68498917, -0.00942674,  0.14583788],\n",
              "       [-0.77396206, -0.19950556,  0.03953923,  0.18727773],\n",
              "       [-0.1970348 ,  0.09834803,  0.38459922,  0.51258435],\n",
              "       [ 0.86821868,  1.09931672,  2.00015059,  2.04921444]])"
            ]
          },
          "metadata": {
            "tags": []
          },
          "execution_count": 111
        }
      ]
    },
    {
      "cell_type": "code",
      "metadata": {
        "colab": {
          "base_uri": "https://localhost:8080/"
        },
        "id": "ftmI_NSYP6hT",
        "outputId": "bff034dc-3a15-414a-cd20-2183f9e04c5b"
      },
      "source": [
        "arr = np.array([3,3,3,2,2,1,4,3,2])\n",
        "np.unique(arr)"
      ],
      "execution_count": 112,
      "outputs": [
        {
          "output_type": "execute_result",
          "data": {
            "text/plain": [
              "array([1, 2, 3, 4])"
            ]
          },
          "metadata": {
            "tags": []
          },
          "execution_count": 112
        }
      ]
    },
    {
      "cell_type": "code",
      "metadata": {
        "colab": {
          "base_uri": "https://localhost:8080/"
        },
        "id": "1JRyu_mPQw4Y",
        "outputId": "0ec2f2ee-d183-4e26-c22b-ba6b97ae959b"
      },
      "source": [
        "np.union1d(arr, [2,3,6])"
      ],
      "execution_count": 113,
      "outputs": [
        {
          "output_type": "execute_result",
          "data": {
            "text/plain": [
              "array([1, 2, 3, 4, 6])"
            ]
          },
          "metadata": {
            "tags": []
          },
          "execution_count": 113
        }
      ]
    },
    {
      "cell_type": "code",
      "metadata": {
        "colab": {
          "base_uri": "https://localhost:8080/"
        },
        "id": "Lsmnjrd_RH_Y",
        "outputId": "7333873d-d482-4291-fc3a-0d591c7fbdc1"
      },
      "source": [
        "np.intersect1d(arr, [2,3,6])"
      ],
      "execution_count": 114,
      "outputs": [
        {
          "output_type": "execute_result",
          "data": {
            "text/plain": [
              "array([2, 3])"
            ]
          },
          "metadata": {
            "tags": []
          },
          "execution_count": 114
        }
      ]
    },
    {
      "cell_type": "code",
      "metadata": {
        "colab": {
          "base_uri": "https://localhost:8080/"
        },
        "id": "r6wNBYeLRN91",
        "outputId": "5394b522-f916-404b-cd13-5c982c2f02a5"
      },
      "source": [
        "np.setdiff1d(arr, [2,3,6])"
      ],
      "execution_count": 115,
      "outputs": [
        {
          "output_type": "execute_result",
          "data": {
            "text/plain": [
              "array([1, 4])"
            ]
          },
          "metadata": {
            "tags": []
          },
          "execution_count": 115
        }
      ]
    },
    {
      "cell_type": "markdown",
      "metadata": {
        "id": "TLOXupAiSA1F"
      },
      "source": [
        "## linear algebra"
      ]
    },
    {
      "cell_type": "code",
      "metadata": {
        "colab": {
          "base_uri": "https://localhost:8080/"
        },
        "id": "YqocVD3BRXGv",
        "outputId": "905b9d21-45ae-4251-d50e-541770dd852b"
      },
      "source": [
        "x = np.array( [[1,2,4], [5,6,7]] )\n",
        "x.shape"
      ],
      "execution_count": 119,
      "outputs": [
        {
          "output_type": "execute_result",
          "data": {
            "text/plain": [
              "(2, 3)"
            ]
          },
          "metadata": {
            "tags": []
          },
          "execution_count": 119
        }
      ]
    },
    {
      "cell_type": "code",
      "metadata": {
        "colab": {
          "base_uri": "https://localhost:8080/"
        },
        "id": "8r9iAxnJSRPx",
        "outputId": "40c8788a-0a69-4d5f-f53f-e0e62b659995"
      },
      "source": [
        "y = np.array( [[6,13], [5,6], [3,1]])\n",
        "y.shape"
      ],
      "execution_count": 121,
      "outputs": [
        {
          "output_type": "execute_result",
          "data": {
            "text/plain": [
              "(3, 2)"
            ]
          },
          "metadata": {
            "tags": []
          },
          "execution_count": 121
        }
      ]
    },
    {
      "cell_type": "code",
      "metadata": {
        "colab": {
          "base_uri": "https://localhost:8080/",
          "height": 163
        },
        "id": "38XuX1O2Sddp",
        "outputId": "17facaeb-6461-4a16-8ef3-49730e780804"
      },
      "source": [
        "x*y"
      ],
      "execution_count": 122,
      "outputs": [
        {
          "output_type": "error",
          "ename": "ValueError",
          "evalue": "ignored",
          "traceback": [
            "\u001b[0;31m---------------------------------------------------------------------------\u001b[0m",
            "\u001b[0;31mValueError\u001b[0m                                Traceback (most recent call last)",
            "\u001b[0;32m<ipython-input-122-7a2c1caf0dad>\u001b[0m in \u001b[0;36m<module>\u001b[0;34m()\u001b[0m\n\u001b[0;32m----> 1\u001b[0;31m \u001b[0mx\u001b[0m\u001b[0;34m*\u001b[0m\u001b[0my\u001b[0m\u001b[0;34m\u001b[0m\u001b[0;34m\u001b[0m\u001b[0m\n\u001b[0m",
            "\u001b[0;31mValueError\u001b[0m: operands could not be broadcast together with shapes (2,3) (3,2) "
          ]
        }
      ]
    },
    {
      "cell_type": "code",
      "metadata": {
        "colab": {
          "base_uri": "https://localhost:8080/"
        },
        "id": "1PQpMMEJSgnE",
        "outputId": "8562405a-f1c2-4164-b1d0-5d77545c1b78"
      },
      "source": [
        "z = x.dot(y)\n",
        "z"
      ],
      "execution_count": 124,
      "outputs": [
        {
          "output_type": "execute_result",
          "data": {
            "text/plain": [
              "array([[ 28,  29],\n",
              "       [ 81, 108]])"
            ]
          },
          "metadata": {
            "tags": []
          },
          "execution_count": 124
        }
      ]
    },
    {
      "cell_type": "code",
      "metadata": {
        "colab": {
          "base_uri": "https://localhost:8080/"
        },
        "id": "R5YvwwMoSjNF",
        "outputId": "e6f39d61-1514-45de-d106-7fb0ad7dd844"
      },
      "source": [
        "zi = np.linalg.inv(z)\n",
        "zi"
      ],
      "execution_count": 126,
      "outputs": [
        {
          "output_type": "execute_result",
          "data": {
            "text/plain": [
              "array([[ 0.16      , -0.04296296],\n",
              "       [-0.12      ,  0.04148148]])"
            ]
          },
          "metadata": {
            "tags": []
          },
          "execution_count": 126
        }
      ]
    },
    {
      "cell_type": "code",
      "metadata": {
        "colab": {
          "base_uri": "https://localhost:8080/"
        },
        "id": "oWNFYvuXTBBT",
        "outputId": "9c8424a2-7624-44bf-e13b-4a86907d9583"
      },
      "source": [
        "z*zi"
      ],
      "execution_count": 127,
      "outputs": [
        {
          "output_type": "execute_result",
          "data": {
            "text/plain": [
              "array([[ 4.48      , -1.24592593],\n",
              "       [-9.72      ,  4.48      ]])"
            ]
          },
          "metadata": {
            "tags": []
          },
          "execution_count": 127
        }
      ]
    },
    {
      "cell_type": "code",
      "metadata": {
        "colab": {
          "base_uri": "https://localhost:8080/"
        },
        "id": "mca5pAQrTGFj",
        "outputId": "ca8f13f7-aae4-4e12-dc0a-ace88d3b86a9"
      },
      "source": [
        "zi*z"
      ],
      "execution_count": 129,
      "outputs": [
        {
          "output_type": "execute_result",
          "data": {
            "text/plain": [
              "array([[ 4.48      , -1.24592593],\n",
              "       [-9.72      ,  4.48      ]])"
            ]
          },
          "metadata": {
            "tags": []
          },
          "execution_count": 129
        }
      ]
    },
    {
      "cell_type": "code",
      "metadata": {
        "colab": {
          "base_uri": "https://localhost:8080/"
        },
        "id": "f5YrLjV4TJJd",
        "outputId": "7c5b0c80-7edc-466a-d672-58bbfcabe8e7"
      },
      "source": [
        "zi.dot(z)"
      ],
      "execution_count": 130,
      "outputs": [
        {
          "output_type": "execute_result",
          "data": {
            "text/plain": [
              "array([[ 1.00000000e+00, -1.19348975e-15],\n",
              "       [-6.24500451e-17,  1.00000000e+00]])"
            ]
          },
          "metadata": {
            "tags": []
          },
          "execution_count": 130
        }
      ]
    },
    {
      "cell_type": "code",
      "metadata": {
        "colab": {
          "base_uri": "https://localhost:8080/"
        },
        "id": "0kUYrtpNTNIi",
        "outputId": "4b64e364-3339-4dcc-e0a4-3a0bebbdcfda"
      },
      "source": [
        "arr = np.identity(5)\n",
        "arr"
      ],
      "execution_count": 133,
      "outputs": [
        {
          "output_type": "execute_result",
          "data": {
            "text/plain": [
              "array([[1., 0., 0., 0., 0.],\n",
              "       [0., 1., 0., 0., 0.],\n",
              "       [0., 0., 1., 0., 0.],\n",
              "       [0., 0., 0., 1., 0.],\n",
              "       [0., 0., 0., 0., 1.]])"
            ]
          },
          "metadata": {
            "tags": []
          },
          "execution_count": 133
        }
      ]
    },
    {
      "cell_type": "markdown",
      "metadata": {
        "id": "vJ0qyxiyUNzA"
      },
      "source": [
        "## random generation"
      ]
    },
    {
      "cell_type": "code",
      "metadata": {
        "colab": {
          "base_uri": "https://localhost:8080/"
        },
        "id": "PZs1uHPOTd7J",
        "outputId": "05965faa-3239-4e39-ea37-e5f9af5da6b7"
      },
      "source": [
        "np.random.normal(size=(4,4))"
      ],
      "execution_count": 134,
      "outputs": [
        {
          "output_type": "execute_result",
          "data": {
            "text/plain": [
              "array([[-0.9225117 , -1.29646563,  0.27517169,  1.3834271 ],\n",
              "       [ 0.08881508, -0.32272903, -1.00390208, -1.45400997],\n",
              "       [ 0.03183654,  0.23950319,  0.82359625, -0.78595741],\n",
              "       [-0.01685363, -0.01004187,  0.5066893 ,  2.11832146]])"
            ]
          },
          "metadata": {
            "tags": []
          },
          "execution_count": 134
        }
      ]
    },
    {
      "cell_type": "code",
      "metadata": {
        "colab": {
          "base_uri": "https://localhost:8080/"
        },
        "id": "10uGrqxvUg5_",
        "outputId": "65dc9fe4-5948-4601-acaa-14c6a54ce9f5"
      },
      "source": [
        "np.random.seed(12345)\n",
        "np.random.normal(size=(4,4))"
      ],
      "execution_count": 135,
      "outputs": [
        {
          "output_type": "execute_result",
          "data": {
            "text/plain": [
              "array([[-0.20470766,  0.47894334, -0.51943872, -0.5557303 ],\n",
              "       [ 1.96578057,  1.39340583,  0.09290788,  0.28174615],\n",
              "       [ 0.76902257,  1.24643474,  1.00718936, -1.29622111],\n",
              "       [ 0.27499163,  0.22891288,  1.35291684,  0.88642934]])"
            ]
          },
          "metadata": {
            "tags": []
          },
          "execution_count": 135
        }
      ]
    },
    {
      "cell_type": "code",
      "metadata": {
        "colab": {
          "base_uri": "https://localhost:8080/"
        },
        "id": "CGhpkdwOVHuK",
        "outputId": "6d4db592-65c1-43c0-f68d-9f0df47f7c9d"
      },
      "source": [
        "np.random.randint(0,1000,10)"
      ],
      "execution_count": 136,
      "outputs": [
        {
          "output_type": "execute_result",
          "data": {
            "text/plain": [
              "array([387, 764, 124, 645, 143, 631, 843, 910, 371, 337])"
            ]
          },
          "metadata": {
            "tags": []
          },
          "execution_count": 136
        }
      ]
    },
    {
      "cell_type": "code",
      "metadata": {
        "colab": {
          "base_uri": "https://localhost:8080/"
        },
        "id": "sdy46wiEVR8x",
        "outputId": "be8e6398-6857-4af9-835a-d3ed348cebcb"
      },
      "source": [
        "np.random.randn(4,4)"
      ],
      "execution_count": 137,
      "outputs": [
        {
          "output_type": "execute_result",
          "data": {
            "text/plain": [
              "array([[ 1.05962632e+00,  6.44448170e-01, -7.79917587e-03,\n",
              "        -4.49203547e-01],\n",
              "       [ 2.44896272e+00,  6.67226190e-01,  8.02925512e-01,\n",
              "         5.75720851e-01],\n",
              "       [ 1.38191821e+00,  9.92381398e-04, -1.43492473e-01,\n",
              "        -2.06281745e-01],\n",
              "       [-2.22392153e-01, -1.68240338e+00,  1.81165938e+00,\n",
              "        -3.51305407e-01]])"
            ]
          },
          "metadata": {
            "tags": []
          },
          "execution_count": 137
        }
      ]
    },
    {
      "cell_type": "code",
      "metadata": {
        "id": "HGaVTz2VVYFM"
      },
      "source": [
        ""
      ],
      "execution_count": null,
      "outputs": []
    }
  ]
}